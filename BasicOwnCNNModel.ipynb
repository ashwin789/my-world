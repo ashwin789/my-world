{
  "nbformat": 4,
  "nbformat_minor": 0,
  "metadata": {
    "colab": {
      "name": "BasicOwnCNNModel.ipynb",
      "provenance": [],
      "collapsed_sections": [],
      "include_colab_link": true
    },
    "kernelspec": {
      "name": "python3",
      "display_name": "Python 3"
    },
    "language_info": {
      "name": "python"
    },
    "accelerator": "GPU"
  },
  "cells": [
    {
      "cell_type": "markdown",
      "metadata": {
        "id": "view-in-github",
        "colab_type": "text"
      },
      "source": [
        "<a href=\"https://colab.research.google.com/github/ashwin789/my-world/blob/master/BasicOwnCNNModel.ipynb\" target=\"_parent\"><img src=\"https://colab.research.google.com/assets/colab-badge.svg\" alt=\"Open In Colab\"/></a>"
      ]
    },
    {
      "cell_type": "code",
      "metadata": {
        "id": "cqvPTPolqhwv"
      },
      "source": [
        "import pandas as pd\n",
        "import numpy as np\n",
        "import matplotlib.pyplot as plt\n",
        "# matplotlib inline"
      ],
      "execution_count": null,
      "outputs": []
    },
    {
      "cell_type": "code",
      "metadata": {
        "id": "ut_5H6rUq43z"
      },
      "source": [
        "# pandas is for - Dataframes based operations - import, export, contact, ploting\n",
        "# Dataframe - by default columns will be variables & rows will be oberservations\n",
        "# matplotlib.pyplot - data vizualization software for ML/DL and AI\n",
        "# Numpy - Array based operations - basic data structures of python\n",
        "# subpackages :\n",
        "# scipy.stats - statistics based modelling\n",
        "# statmodels - Time Series or IOT Based Data Analysis\n",
        "# Scikit Learn(sklearn) - Machine Learning and Deep Learning in python\n"
      ],
      "execution_count": null,
      "outputs": []
    },
    {
      "cell_type": "code",
      "metadata": {
        "id": "V4qA_C05tEVM"
      },
      "source": [
        "# Deep Learning\n",
        "import keras\n",
        "import tensorflow as tf\n"
      ],
      "execution_count": null,
      "outputs": []
    },
    {
      "cell_type": "code",
      "metadata": {
        "id": "vHv9r9ootMnm"
      },
      "source": [
        "fashion_mnist = tf.keras.datasets.fashion_mnist"
      ],
      "execution_count": null,
      "outputs": []
    },
    {
      "cell_type": "code",
      "metadata": {
        "id": "eRNLcV84uYJz",
        "colab": {
          "base_uri": "https://localhost:8080/"
        },
        "outputId": "50afa29d-8ad6-44eb-97c6-5f4438c048e5"
      },
      "source": [
        "(train_images, train_labels), (test_images, test_labels) = fashion_mnist.load_data()"
      ],
      "execution_count": null,
      "outputs": [
        {
          "output_type": "stream",
          "text": [
            "Downloading data from https://storage.googleapis.com/tensorflow/tf-keras-datasets/train-labels-idx1-ubyte.gz\n",
            "32768/29515 [=================================] - 0s 0us/step\n",
            "Downloading data from https://storage.googleapis.com/tensorflow/tf-keras-datasets/train-images-idx3-ubyte.gz\n",
            "26427392/26421880 [==============================] - 0s 0us/step\n",
            "Downloading data from https://storage.googleapis.com/tensorflow/tf-keras-datasets/t10k-labels-idx1-ubyte.gz\n",
            "8192/5148 [===============================================] - 0s 0us/step\n",
            "Downloading data from https://storage.googleapis.com/tensorflow/tf-keras-datasets/t10k-images-idx3-ubyte.gz\n",
            "4423680/4422102 [==============================] - 0s 0us/step\n"
          ],
          "name": "stdout"
        }
      ]
    },
    {
      "cell_type": "code",
      "metadata": {
        "colab": {
          "base_uri": "https://localhost:8080/"
        },
        "id": "aoe-sDMEvoUW",
        "outputId": "84e606ad-9d89-497a-a528-393233298eeb"
      },
      "source": [
        "print(train_images.shape)\n",
        "print(test_images.shape)"
      ],
      "execution_count": null,
      "outputs": [
        {
          "output_type": "stream",
          "text": [
            "(60000, 28, 28)\n",
            "(10000, 28, 28)\n"
          ],
          "name": "stdout"
        }
      ]
    },
    {
      "cell_type": "code",
      "metadata": {
        "colab": {
          "base_uri": "https://localhost:8080/"
        },
        "id": "79_XH5QDwMec",
        "outputId": "3ec4e46a-b3ac-43f5-cb08-1554fd3d5f64"
      },
      "source": [
        "print(len(train_labels))\n",
        "print(len(test_labels))"
      ],
      "execution_count": null,
      "outputs": [
        {
          "output_type": "stream",
          "text": [
            "60000\n",
            "10000\n"
          ],
          "name": "stdout"
        }
      ]
    },
    {
      "cell_type": "code",
      "metadata": {
        "colab": {
          "base_uri": "https://localhost:8080/",
          "height": 265
        },
        "id": "Mr_1-PlHwUSv",
        "outputId": "95f7af8c-00be-43bb-b786-4ffb33b59730"
      },
      "source": [
        "plt.figure()\n",
        "plt.imshow(train_images[100])\n",
        "plt.colorbar()\n",
        "plt.grid(False)\n",
        "plt.show()"
      ],
      "execution_count": null,
      "outputs": [
        {
          "output_type": "display_data",
          "data": {
            "image/png": "[encoded data removed]",
            "text/plain": [
              "<Figure size 432x288 with 2 Axes>"
            ]
          },
          "metadata": {
            "tags": [],
            "needs_background": "light"
          }
        }
      ]
    },
    {
      "cell_type": "code",
      "metadata": {
        "colab": {
          "base_uri": "https://localhost:8080/",
          "height": 589
        },
        "id": "xfI1AE2dxBve",
        "outputId": "6d09eab2-5e77-48ef-ab6c-0a19c354dbfe"
      },
      "source": [
        "plt.figure(figsize=(10,10))\n",
        "for i in range(25):\n",
        "  plt.subplot(5,5,i+1)\n",
        "  plt.xticks([])\n",
        "  plt.yticks([])\n",
        "  plt.grid(False)\n",
        "  plt.imshow(train_images[i], cmap=plt.cm.binary)\n",
        "  plt.xlabel([train_labels[i]])\n",
        "plt.show()"
      ],
      "execution_count": null,
      "outputs": [
        {
          "output_type": "display_data",
          "data": {
            "image/png": "[encoded data removed]",
            "text/plain": [
              "<Figure size 720x720 with 25 Axes>"
            ]
          },
          "metadata": {
            "tags": []
          }
        }
      ]
    },
    {
      "cell_type": "code",
      "metadata": {
        "colab": {
          "base_uri": "https://localhost:8080/"
        },
        "id": "tyIVtVGb2nGv",
        "outputId": "f93e3450-25ac-4878-82e1-3e33a077844f"
      },
      "source": [
        "print(train_images.min())\n",
        "print(train_images.max())"
      ],
      "execution_count": null,
      "outputs": [
        {
          "output_type": "stream",
          "text": [
            "0\n",
            "255\n"
          ],
          "name": "stdout"
        }
      ]
    },
    {
      "cell_type": "code",
      "metadata": {
        "id": "i15Jdl0K26Iq"
      },
      "source": [
        "# Normalization of Data must be done for image processing\n",
        "# Noralize also called as Min-Max Scaler - formula - (X-Xmin)/(Xmax-Xmin)\n",
        "train_images= train_images/255\n",
        "test_images= test_images/255\n",
        "\n",
        "#before normalization the output is in between 0 to 255\n",
        "#after normalization the ouptput is in between 0 to 1"
      ],
      "execution_count": null,
      "outputs": []
    },
    {
      "cell_type": "code",
      "metadata": {
        "colab": {
          "base_uri": "https://localhost:8080/"
        },
        "id": "JTDzqPLR3xst",
        "outputId": "36ff7c29-0849-447e-ce64-fc833ffbd032"
      },
      "source": [
        "print(train_images.min())\n",
        "print(train_images.max())"
      ],
      "execution_count": null,
      "outputs": [
        {
          "output_type": "stream",
          "text": [
            "0.0\n",
            "1.0\n"
          ],
          "name": "stdout"
        }
      ]
    },
    {
      "cell_type": "code",
      "metadata": {
        "id": "AUan611v4On6"
      },
      "source": [
        "# Build a Simple Neural Network - Single Layer Network with 128 Neurons\n",
        "# sequential is important because layers are sequential\n",
        "\n",
        "model = tf.keras.Sequential([\n",
        "                             tf.keras.layers.Flatten(input_shape=(28,28)),\n",
        "                             tf.keras.layers.Dense(128,activation='relu'),\n",
        "                             tf.keras.layers.Dense(10)\n",
        "])"
      ],
      "execution_count": null,
      "outputs": []
    },
    {
      "cell_type": "code",
      "metadata": {
        "id": "_InNxrlG4U0V"
      },
      "source": [
        "model.compile(optimizer='adam',\n",
        "              loss = tf.keras.losses.SparseCategoricalCrossentropy(from_logits=True),\n",
        "              metrics = ['accuracy'] )"
      ],
      "execution_count": null,
      "outputs": []
    },
    {
      "cell_type": "code",
      "metadata": {
        "colab": {
          "base_uri": "https://localhost:8080/"
        },
        "id": "THa0M8iV6rrf",
        "outputId": "4ee78aec-6a31-4a28-81e3-b970bab3a5fd"
      },
      "source": [
        "model.fit(train_images, train_labels, epochs=25)"
      ],
      "execution_count": null,
      "outputs": [
        {
          "output_type": "stream",
          "text": [
            "Epoch 1/25\n",
            "1875/1875 [==============================] - 7s 2ms/step - loss: 0.6254 - accuracy: 0.7866\n",
            "Epoch 2/25\n",
            "1875/1875 [==============================] - 4s 2ms/step - loss: 0.3844 - accuracy: 0.8629\n",
            "Epoch 3/25\n",
            "1875/1875 [==============================] - 4s 2ms/step - loss: 0.3408 - accuracy: 0.8769\n",
            "Epoch 4/25\n",
            "1875/1875 [==============================] - 4s 2ms/step - loss: 0.3107 - accuracy: 0.8863\n",
            "Epoch 5/25\n",
            "1875/1875 [==============================] - 4s 2ms/step - loss: 0.2917 - accuracy: 0.8920\n",
            "Epoch 6/25\n",
            "1875/1875 [==============================] - 4s 2ms/step - loss: 0.2811 - accuracy: 0.8953\n",
            "Epoch 7/25\n",
            "1875/1875 [==============================] - 4s 2ms/step - loss: 0.2699 - accuracy: 0.9010\n",
            "Epoch 8/25\n",
            "1875/1875 [==============================] - 4s 2ms/step - loss: 0.2486 - accuracy: 0.9071\n",
            "Epoch 9/25\n",
            "1875/1875 [==============================] - 4s 2ms/step - loss: 0.2489 - accuracy: 0.9071\n",
            "Epoch 10/25\n",
            "1875/1875 [==============================] - 4s 2ms/step - loss: 0.2320 - accuracy: 0.9120\n",
            "Epoch 11/25\n",
            "1875/1875 [==============================] - 4s 2ms/step - loss: 0.2276 - accuracy: 0.9142\n",
            "Epoch 12/25\n",
            "1875/1875 [==============================] - 4s 2ms/step - loss: 0.2215 - accuracy: 0.9179\n",
            "Epoch 13/25\n",
            "1875/1875 [==============================] - 4s 2ms/step - loss: 0.2140 - accuracy: 0.9203\n",
            "Epoch 14/25\n",
            "1875/1875 [==============================] - 4s 2ms/step - loss: 0.2049 - accuracy: 0.9236\n",
            "Epoch 15/25\n",
            "1875/1875 [==============================] - 4s 2ms/step - loss: 0.2024 - accuracy: 0.9243\n",
            "Epoch 16/25\n",
            "1875/1875 [==============================] - 4s 2ms/step - loss: 0.1903 - accuracy: 0.9274\n",
            "Epoch 17/25\n",
            "1875/1875 [==============================] - 4s 2ms/step - loss: 0.1890 - accuracy: 0.9294\n",
            "Epoch 18/25\n",
            "1875/1875 [==============================] - 4s 2ms/step - loss: 0.1849 - accuracy: 0.9286\n",
            "Epoch 19/25\n",
            "1875/1875 [==============================] - 4s 2ms/step - loss: 0.1756 - accuracy: 0.9345\n",
            "Epoch 20/25\n",
            "1875/1875 [==============================] - 4s 2ms/step - loss: 0.1784 - accuracy: 0.9323\n",
            "Epoch 21/25\n",
            "1875/1875 [==============================] - 4s 2ms/step - loss: 0.1741 - accuracy: 0.9330\n",
            "Epoch 22/25\n",
            "1875/1875 [==============================] - 4s 2ms/step - loss: 0.1694 - accuracy: 0.9348\n",
            "Epoch 23/25\n",
            "1875/1875 [==============================] - 4s 2ms/step - loss: 0.1608 - accuracy: 0.9394\n",
            "Epoch 24/25\n",
            "1875/1875 [==============================] - 4s 2ms/step - loss: 0.1595 - accuracy: 0.9387\n",
            "Epoch 25/25\n",
            "1875/1875 [==============================] - 4s 2ms/step - loss: 0.1527 - accuracy: 0.9417\n"
          ],
          "name": "stdout"
        },
        {
          "output_type": "execute_result",
          "data": {
            "text/plain": [
              "<tensorflow.python.keras.callbacks.History at 0x7f0c0068b4d0>"
            ]
          },
          "metadata": {
            "tags": []
          },
          "execution_count": 16
        }
      ]
    },
    {
      "cell_type": "code",
      "metadata": {
        "colab": {
          "base_uri": "https://localhost:8080/"
        },
        "id": "t6zAJ2C960pF",
        "outputId": "69c734d9-2249-4056-f277-17a070074f87"
      },
      "source": [
        "test_loss, test_acc=model.evaluate(test_images, test_labels, verbose=2)\n",
        "print(test_loss)\n",
        "print(test_acc)"
      ],
      "execution_count": null,
      "outputs": [
        {
          "output_type": "stream",
          "text": [
            "313/313 - 1s - loss: 0.3760 - accuracy: 0.8898\n",
            "0.37602677941322327\n",
            "0.8898000121116638\n"
          ],
          "name": "stdout"
        }
      ]
    },
    {
      "cell_type": "code",
      "metadata": {
        "id": "Xo8FttSw98Wv"
      },
      "source": [
        "# Convolutional Neural Networks -3 parts\n",
        "# 1) Convolution Layer - source image, task like blurring, sharpening, \n",
        "# noise detection, edge detection, etc\n",
        "# 2) Pooling Layer - reduce the image dimesionally without loosing imp\n",
        "# features and patterns, Maxpooling\n",
        "# 3) Fully Connected Layer - Dense Layer in which the results of previous\n",
        "# 2 laters are fed into neurons to generate prediction\n",
        "\n"
      ],
      "execution_count": null,
      "outputs": []
    },
    {
      "cell_type": "code",
      "metadata": {
        "id": "xrtOL8TDApuq"
      },
      "source": [
        "from keras import Sequential\n",
        "from keras.layers import Conv2D, MaxPool2D, BatchNormalization\n",
        "from keras.layers import Dense,Dropout,Flatten,Activation\n"
      ],
      "execution_count": null,
      "outputs": []
    },
    {
      "cell_type": "code",
      "metadata": {
        "id": "flHBP17SBk-s"
      },
      "source": [
        "(x_train, y_train), (x_test, y_test) = fashion_mnist.load_data()\n"
      ],
      "execution_count": null,
      "outputs": []
    },
    {
      "cell_type": "code",
      "metadata": {
        "colab": {
          "base_uri": "https://localhost:8080/"
        },
        "id": "Fjbu60OZCCxq",
        "outputId": "b6f8d2f4-1a2f-4076-b5eb-bfd7409aa5eb"
      },
      "source": [
        "print(x_train.shape)\n",
        "print(x_test.shape)\n"
      ],
      "execution_count": null,
      "outputs": [
        {
          "output_type": "stream",
          "text": [
            "(60000, 28, 28)\n",
            "(10000, 28, 28)\n"
          ],
          "name": "stdout"
        }
      ]
    },
    {
      "cell_type": "code",
      "metadata": {
        "colab": {
          "base_uri": "https://localhost:8080/"
        },
        "id": "iVXtnNfoD0ua",
        "outputId": "7d039660-337f-428a-eb4d-4f3b67431853"
      },
      "source": [
        "data=fashion_mnist.load_data()\n",
        "data"
      ],
      "execution_count": null,
      "outputs": [
        {
          "output_type": "execute_result",
          "data": {
            "text/plain": [
              "((array([[[0, 0, 0, ..., 0, 0, 0],\n",
              "          [0, 0, 0, ..., 0, 0, 0],\n",
              "          [0, 0, 0, ..., 0, 0, 0],\n",
              "          ...,\n",
              "          [0, 0, 0, ..., 0, 0, 0],\n",
              "          [0, 0, 0, ..., 0, 0, 0],\n",
              "          [0, 0, 0, ..., 0, 0, 0]],\n",
              "  \n",
              "         [[0, 0, 0, ..., 0, 0, 0],\n",
              "          [0, 0, 0, ..., 0, 0, 0],\n",
              "          [0, 0, 0, ..., 0, 0, 0],\n",
              "          ...,\n",
              "          [0, 0, 0, ..., 0, 0, 0],\n",
              "          [0, 0, 0, ..., 0, 0, 0],\n",
              "          [0, 0, 0, ..., 0, 0, 0]],\n",
              "  \n",
              "         [[0, 0, 0, ..., 0, 0, 0],\n",
              "          [0, 0, 0, ..., 0, 0, 0],\n",
              "          [0, 0, 0, ..., 0, 0, 0],\n",
              "          ...,\n",
              "          [0, 0, 0, ..., 0, 0, 0],\n",
              "          [0, 0, 0, ..., 0, 0, 0],\n",
              "          [0, 0, 0, ..., 0, 0, 0]],\n",
              "  \n",
              "         ...,\n",
              "  \n",
              "         [[0, 0, 0, ..., 0, 0, 0],\n",
              "          [0, 0, 0, ..., 0, 0, 0],\n",
              "          [0, 0, 0, ..., 0, 0, 0],\n",
              "          ...,\n",
              "          [0, 0, 0, ..., 0, 0, 0],\n",
              "          [0, 0, 0, ..., 0, 0, 0],\n",
              "          [0, 0, 0, ..., 0, 0, 0]],\n",
              "  \n",
              "         [[0, 0, 0, ..., 0, 0, 0],\n",
              "          [0, 0, 0, ..., 0, 0, 0],\n",
              "          [0, 0, 0, ..., 0, 0, 0],\n",
              "          ...,\n",
              "          [0, 0, 0, ..., 0, 0, 0],\n",
              "          [0, 0, 0, ..., 0, 0, 0],\n",
              "          [0, 0, 0, ..., 0, 0, 0]],\n",
              "  \n",
              "         [[0, 0, 0, ..., 0, 0, 0],\n",
              "          [0, 0, 0, ..., 0, 0, 0],\n",
              "          [0, 0, 0, ..., 0, 0, 0],\n",
              "          ...,\n",
              "          [0, 0, 0, ..., 0, 0, 0],\n",
              "          [0, 0, 0, ..., 0, 0, 0],\n",
              "          [0, 0, 0, ..., 0, 0, 0]]], dtype=uint8),\n",
              "  array([9, 0, 0, ..., 3, 0, 5], dtype=uint8)),\n",
              " (array([[[0, 0, 0, ..., 0, 0, 0],\n",
              "          [0, 0, 0, ..., 0, 0, 0],\n",
              "          [0, 0, 0, ..., 0, 0, 0],\n",
              "          ...,\n",
              "          [0, 0, 0, ..., 0, 0, 0],\n",
              "          [0, 0, 0, ..., 0, 0, 0],\n",
              "          [0, 0, 0, ..., 0, 0, 0]],\n",
              "  \n",
              "         [[0, 0, 0, ..., 0, 0, 0],\n",
              "          [0, 0, 0, ..., 0, 0, 0],\n",
              "          [0, 0, 0, ..., 0, 0, 0],\n",
              "          ...,\n",
              "          [0, 0, 0, ..., 0, 0, 0],\n",
              "          [0, 0, 0, ..., 0, 0, 0],\n",
              "          [0, 0, 0, ..., 0, 0, 0]],\n",
              "  \n",
              "         [[0, 0, 0, ..., 0, 0, 0],\n",
              "          [0, 0, 0, ..., 0, 0, 0],\n",
              "          [0, 0, 0, ..., 0, 0, 0],\n",
              "          ...,\n",
              "          [0, 0, 0, ..., 0, 0, 0],\n",
              "          [0, 0, 0, ..., 0, 0, 0],\n",
              "          [0, 0, 0, ..., 0, 0, 0]],\n",
              "  \n",
              "         ...,\n",
              "  \n",
              "         [[0, 0, 0, ..., 0, 0, 0],\n",
              "          [0, 0, 0, ..., 0, 0, 0],\n",
              "          [0, 0, 0, ..., 0, 0, 0],\n",
              "          ...,\n",
              "          [0, 0, 0, ..., 0, 0, 0],\n",
              "          [0, 0, 0, ..., 0, 0, 0],\n",
              "          [0, 0, 0, ..., 0, 0, 0]],\n",
              "  \n",
              "         [[0, 0, 0, ..., 0, 0, 0],\n",
              "          [0, 0, 0, ..., 0, 0, 0],\n",
              "          [0, 0, 0, ..., 0, 0, 0],\n",
              "          ...,\n",
              "          [0, 0, 0, ..., 0, 0, 0],\n",
              "          [0, 0, 0, ..., 0, 0, 0],\n",
              "          [0, 0, 0, ..., 0, 0, 0]],\n",
              "  \n",
              "         [[0, 0, 0, ..., 0, 0, 0],\n",
              "          [0, 0, 0, ..., 0, 0, 0],\n",
              "          [0, 0, 0, ..., 0, 0, 0],\n",
              "          ...,\n",
              "          [0, 0, 0, ..., 0, 0, 0],\n",
              "          [0, 0, 0, ..., 0, 0, 0],\n",
              "          [0, 0, 0, ..., 0, 0, 0]]], dtype=uint8),\n",
              "  array([9, 2, 1, ..., 8, 1, 5], dtype=uint8)))"
            ]
          },
          "metadata": {
            "tags": []
          },
          "execution_count": 22
        }
      ]
    },
    {
      "cell_type": "markdown",
      "metadata": {
        "id": "ndmDhNo67x0q"
      },
      "source": [
        ""
      ]
    },
    {
      "cell_type": "code",
      "metadata": {
        "id": "UyF5Nj4bEGEC"
      },
      "source": [
        "from sklearn.model_selection import train_test_split"
      ],
      "execution_count": null,
      "outputs": []
    },
    {
      "cell_type": "code",
      "metadata": {
        "id": "DwA0Z82WERtP"
      },
      "source": [
        "# x_train2, x_test2, y_train2, y_test2 = train_test_split(data, test_size=0.30, random_state=123)"
      ],
      "execution_count": null,
      "outputs": []
    },
    {
      "cell_type": "code",
      "metadata": {
        "id": "cwvALVcuEuEQ"
      },
      "source": [
        "img_rows, img_cols = 28,28"
      ],
      "execution_count": null,
      "outputs": []
    },
    {
      "cell_type": "code",
      "metadata": {
        "id": "ubtx4pOawajA"
      },
      "source": [
        "x_train = x_train.reshape(x_train.shape[0], img_rows, img_cols, 1)\n",
        "x_test = x_test.reshape(x_test.shape[0], img_rows, img_cols, 1)\n",
        "input_shape = (img_rows, img_cols, 1)\n"
      ],
      "execution_count": null,
      "outputs": []
    },
    {
      "cell_type": "code",
      "metadata": {
        "id": "gMXN_nH4wr_-"
      },
      "source": [
        "x_train = x_train.astype('float32')\n",
        "x_test = x_test.astype('float32')\n",
        "x_train/=255\n",
        "x_test/=255"
      ],
      "execution_count": null,
      "outputs": []
    },
    {
      "cell_type": "code",
      "metadata": {
        "id": "L6oISVF-xryB"
      },
      "source": [
        "num_classes = 10\n",
        "y_train=keras.utils.to_categorical(y_train,num_classes)\n",
        "y_test=keras.utils.to_categorical(y_test,num_classes)"
      ],
      "execution_count": null,
      "outputs": []
    },
    {
      "cell_type": "code",
      "metadata": {
        "colab": {
          "base_uri": "https://localhost:8080/"
        },
        "id": "TKJZacs_yi28",
        "outputId": "b596c828-a53e-4078-cec4-71ad7b272415"
      },
      "source": [
        "model = Sequential()\n",
        "model.add(Conv2D(32, kernel_size = (3,3), activation='relu', input_shape=input_shape))\n",
        "model.add(Conv2D(64, (3,3), activation='relu'))\n",
        "model.add(Conv2D(128, (3,3), activation='relu'))\n",
        "model.add(MaxPool2D(pool_size=(2,2)))\n",
        "model.add(Dropout(0.25))\n",
        "model.add(Flatten())\n",
        "model.add(Dense(128, activation='relu'))\n",
        "model.add(Dense(num_classes, activation=Activation(tf.nn.softmax)))\n",
        "model.summary()\n"
      ],
      "execution_count": null,
      "outputs": [
        {
          "output_type": "stream",
          "text": [
            "Model: \"sequential_1\"\n",
            "_________________________________________________________________\n",
            "Layer (type)                 Output Shape              Param #   \n",
            "=================================================================\n",
            "conv2d (Conv2D)              (None, 26, 26, 32)        320       \n",
            "_________________________________________________________________\n",
            "conv2d_1 (Conv2D)            (None, 24, 24, 64)        18496     \n",
            "_________________________________________________________________\n",
            "conv2d_2 (Conv2D)            (None, 22, 22, 128)       73856     \n",
            "_________________________________________________________________\n",
            "max_pooling2d (MaxPooling2D) (None, 11, 11, 128)       0         \n",
            "_________________________________________________________________\n",
            "dropout (Dropout)            (None, 11, 11, 128)       0         \n",
            "_________________________________________________________________\n",
            "flatten_1 (Flatten)          (None, 15488)             0         \n",
            "_________________________________________________________________\n",
            "dense_2 (Dense)              (None, 128)               1982592   \n",
            "_________________________________________________________________\n",
            "dense_3 (Dense)              (None, 10)                1290      \n",
            "=================================================================\n",
            "Total params: 2,076,554\n",
            "Trainable params: 2,076,554\n",
            "Non-trainable params: 0\n",
            "_________________________________________________________________\n"
          ],
          "name": "stdout"
        }
      ]
    },
    {
      "cell_type": "code",
      "metadata": {
        "id": "80gGo4Yx0f6U"
      },
      "source": [
        "model.compile(loss = keras.losses.categorical_crossentropy, \n",
        "              optimizer =keras.optimizers.Adadelta(),\n",
        "              metrics = ('accuracy'))"
      ],
      "execution_count": null,
      "outputs": []
    },
    {
      "cell_type": "code",
      "metadata": {
        "colab": {
          "base_uri": "https://localhost:8080/"
        },
        "id": "3AKbogHV1ouG",
        "outputId": "bbf322c9-5223-4328-f27c-c854e3345a36"
      },
      "source": [
        "model.fit(x_train, y_train, batch_size=128, epochs=20, verbose=1,\n",
        "          validation_data = (x_test, y_test))"
      ],
      "execution_count": null,
      "outputs": [
        {
          "output_type": "stream",
          "text": [
            "Epoch 1/20\n",
            "469/469 [==============================] - 43s 34ms/step - loss: 2.2834 - accuracy: 0.1488 - val_loss: 2.2075 - val_accuracy: 0.2379\n",
            "Epoch 2/20\n",
            "469/469 [==============================] - 15s 32ms/step - loss: 2.1702 - accuracy: 0.2796 - val_loss: 1.9475 - val_accuracy: 0.4858\n",
            "Epoch 3/20\n",
            "469/469 [==============================] - 15s 32ms/step - loss: 1.8277 - accuracy: 0.5093 - val_loss: 1.3645 - val_accuracy: 0.6204\n",
            "Epoch 4/20\n",
            "469/469 [==============================] - 15s 32ms/step - loss: 1.2697 - accuracy: 0.6107 - val_loss: 1.0269 - val_accuracy: 0.6443\n",
            "Epoch 5/20\n",
            "469/469 [==============================] - 15s 32ms/step - loss: 1.0168 - accuracy: 0.6346 - val_loss: 0.9166 - val_accuracy: 0.6597\n",
            "Epoch 6/20\n",
            "469/469 [==============================] - 15s 32ms/step - loss: 0.9262 - accuracy: 0.6555 - val_loss: 0.8637 - val_accuracy: 0.6760\n",
            "Epoch 7/20\n",
            "469/469 [==============================] - 15s 32ms/step - loss: 0.8821 - accuracy: 0.6736 - val_loss: 0.8303 - val_accuracy: 0.6888\n",
            "Epoch 8/20\n",
            "469/469 [==============================] - 15s 32ms/step - loss: 0.8484 - accuracy: 0.6853 - val_loss: 0.8029 - val_accuracy: 0.7032\n",
            "Epoch 9/20\n",
            "469/469 [==============================] - 15s 32ms/step - loss: 0.8204 - accuracy: 0.6999 - val_loss: 0.7806 - val_accuracy: 0.7130\n",
            "Epoch 10/20\n",
            "469/469 [==============================] - 15s 32ms/step - loss: 0.8070 - accuracy: 0.7026 - val_loss: 0.7650 - val_accuracy: 0.7137\n",
            "Epoch 11/20\n",
            "469/469 [==============================] - 15s 32ms/step - loss: 0.7880 - accuracy: 0.7121 - val_loss: 0.7484 - val_accuracy: 0.7240\n",
            "Epoch 12/20\n",
            "469/469 [==============================] - 15s 32ms/step - loss: 0.7698 - accuracy: 0.7178 - val_loss: 0.7359 - val_accuracy: 0.7302\n",
            "Epoch 13/20\n",
            "469/469 [==============================] - 15s 32ms/step - loss: 0.7634 - accuracy: 0.7214 - val_loss: 0.7234 - val_accuracy: 0.7337\n",
            "Epoch 14/20\n",
            "469/469 [==============================] - 15s 32ms/step - loss: 0.7385 - accuracy: 0.7290 - val_loss: 0.7126 - val_accuracy: 0.7367\n",
            "Epoch 15/20\n",
            "469/469 [==============================] - 15s 32ms/step - loss: 0.7367 - accuracy: 0.7297 - val_loss: 0.7027 - val_accuracy: 0.7437\n",
            "Epoch 16/20\n",
            "469/469 [==============================] - 15s 32ms/step - loss: 0.7305 - accuracy: 0.7333 - val_loss: 0.6944 - val_accuracy: 0.7435\n",
            "Epoch 17/20\n",
            "469/469 [==============================] - 15s 32ms/step - loss: 0.7190 - accuracy: 0.7352 - val_loss: 0.6866 - val_accuracy: 0.7465\n",
            "Epoch 18/20\n",
            "469/469 [==============================] - 15s 32ms/step - loss: 0.7132 - accuracy: 0.7411 - val_loss: 0.6799 - val_accuracy: 0.7477\n",
            "Epoch 19/20\n",
            "469/469 [==============================] - 15s 32ms/step - loss: 0.7040 - accuracy: 0.7433 - val_loss: 0.6701 - val_accuracy: 0.7561\n",
            "Epoch 20/20\n",
            "469/469 [==============================] - 15s 32ms/step - loss: 0.6940 - accuracy: 0.7467 - val_loss: 0.6641 - val_accuracy: 0.7607\n"
          ],
          "name": "stdout"
        },
        {
          "output_type": "execute_result",
          "data": {
            "text/plain": [
              "<tensorflow.python.keras.callbacks.History at 0x7f0c004ca610>"
            ]
          },
          "metadata": {
            "tags": []
          },
          "execution_count": 31
        }
      ]
    },
    {
      "cell_type": "code",
      "metadata": {
        "colab": {
          "base_uri": "https://localhost:8080/"
        },
        "id": "NSkmqx_92mnY",
        "outputId": "9316af20-8410-4448-a861-85984a339ace"
      },
      "source": [
        "score = model.evaluate(x_test, y_test)\n",
        "print(score[0], 'Loss')\n",
        "print(score[1], 'accuracy')"
      ],
      "execution_count": null,
      "outputs": [
        {
          "output_type": "stream",
          "text": [
            "313/313 [==============================] - 2s 6ms/step - loss: 0.6641 - accuracy: 0.7607\n",
            "0.6641429662704468 Loss\n",
            "0.760699987411499 accuracy\n"
          ],
          "name": "stdout"
        }
      ]
    },
    {
      "cell_type": "code",
      "metadata": {
        "colab": {
          "base_uri": "https://localhost:8080/"
        },
        "id": "Z65Qzsch4_gK",
        "outputId": "6edaae9f-f6d6-4240-906b-b07e2418d457"
      },
      "source": [
        "# Updated CNN Model\n",
        "\n",
        "cnn = Sequential()\n",
        "cnn.add(Conv2D(32, kernel_size=3, activation='relu', input_shape=(28,28,1), padding='same'))\n",
        "cnn.add(BatchNormalization())\n",
        "cnn.add(Dropout(0.2))\n",
        "cnn.add(Conv2D(32, kernel_size=3, activation='relu', padding = 'same'))\n",
        "cnn.add(Dropout(0.2))\n",
        "cnn.add(Conv2D(24, kernel_size=3, activation='relu', padding='same'))\n",
        "cnn.add(Dropout(0.2))\n",
        "cnn.add(Conv2D(64, kernel_size=3, activation='relu', padding='same'))\n",
        "cnn.add(MaxPool2D(pool_size=(2,2)))\n",
        "cnn.add(Dropout(0.2))\n",
        "cnn.add(Flatten())\n",
        "cnn.add(Dense(128, activation='relu'))\n",
        "cnn.add(Dropout(0.3))\n",
        "cnn.add(Dense(10, activation = 'softmax'))\n",
        "cnn.summary()\n",
        "\n",
        "\n",
        "\n",
        "\n"
      ],
      "execution_count": null,
      "outputs": [
        {
          "output_type": "stream",
          "text": [
            "Model: \"sequential_6\"\n",
            "_________________________________________________________________\n",
            "Layer (type)                 Output Shape              Param #   \n",
            "=================================================================\n",
            "conv2d_14 (Conv2D)           (None, 28, 28, 32)        320       \n",
            "_________________________________________________________________\n",
            "batch_normalization_3 (Batch (None, 28, 28, 32)        128       \n",
            "_________________________________________________________________\n",
            "dropout_11 (Dropout)         (None, 28, 28, 32)        0         \n",
            "_________________________________________________________________\n",
            "conv2d_15 (Conv2D)           (None, 28, 28, 32)        9248      \n",
            "_________________________________________________________________\n",
            "dropout_12 (Dropout)         (None, 28, 28, 32)        0         \n",
            "_________________________________________________________________\n",
            "conv2d_16 (Conv2D)           (None, 28, 28, 24)        6936      \n",
            "_________________________________________________________________\n",
            "dropout_13 (Dropout)         (None, 28, 28, 24)        0         \n",
            "_________________________________________________________________\n",
            "conv2d_17 (Conv2D)           (None, 28, 28, 64)        13888     \n",
            "_________________________________________________________________\n",
            "max_pooling2d_3 (MaxPooling2 (None, 14, 14, 64)        0         \n",
            "_________________________________________________________________\n",
            "dropout_14 (Dropout)         (None, 14, 14, 64)        0         \n",
            "_________________________________________________________________\n",
            "flatten_4 (Flatten)          (None, 12544)             0         \n",
            "_________________________________________________________________\n",
            "dense_6 (Dense)              (None, 128)               1605760   \n",
            "_________________________________________________________________\n",
            "dropout_15 (Dropout)         (None, 128)               0         \n",
            "_________________________________________________________________\n",
            "dense_7 (Dense)              (None, 10)                1290      \n",
            "=================================================================\n",
            "Total params: 1,637,570\n",
            "Trainable params: 1,637,506\n",
            "Non-trainable params: 64\n",
            "_________________________________________________________________\n"
          ],
          "name": "stdout"
        }
      ]
    },
    {
      "cell_type": "code",
      "metadata": {
        "id": "_o-QJZWN6qrk"
      },
      "source": [
        "cnn.compile(optimizer='adam', metrics=['accuracy'], loss='categorical_crossentropy')"
      ],
      "execution_count": null,
      "outputs": []
    },
    {
      "cell_type": "code",
      "metadata": {
        "colab": {
          "base_uri": "https://localhost:8080/"
        },
        "id": "HvVJSgJP8WfR",
        "outputId": "b7df2e60-c765-40b6-9db9-62f8d6aac65a"
      },
      "source": [
        "cnn.fit(x_train, y_train, validation_data=(x_test, y_test), batch_size=128,\n",
        "        epochs= 20, verbose=1)"
      ],
      "execution_count": null,
      "outputs": [
        {
          "output_type": "stream",
          "text": [
            "Epoch 1/20\n",
            "469/469 [==============================] - 17s 34ms/step - loss: 0.8291 - accuracy: 0.7136 - val_loss: 0.5709 - val_accuracy: 0.8846\n",
            "Epoch 2/20\n",
            "469/469 [==============================] - 15s 33ms/step - loss: 0.3364 - accuracy: 0.8771 - val_loss: 0.2584 - val_accuracy: 0.9066\n",
            "Epoch 3/20\n",
            "469/469 [==============================] - 15s 33ms/step - loss: 0.2760 - accuracy: 0.8999 - val_loss: 0.2317 - val_accuracy: 0.9167\n",
            "Epoch 4/20\n",
            "469/469 [==============================] - 15s 33ms/step - loss: 0.2401 - accuracy: 0.9120 - val_loss: 0.2153 - val_accuracy: 0.9209\n",
            "Epoch 5/20\n",
            "469/469 [==============================] - 15s 33ms/step - loss: 0.2281 - accuracy: 0.9149 - val_loss: 0.2178 - val_accuracy: 0.9210\n",
            "Epoch 6/20\n",
            "469/469 [==============================] - 15s 33ms/step - loss: 0.2070 - accuracy: 0.9207 - val_loss: 0.2108 - val_accuracy: 0.9265\n",
            "Epoch 7/20\n",
            "469/469 [==============================] - 15s 32ms/step - loss: 0.1919 - accuracy: 0.9270 - val_loss: 0.2107 - val_accuracy: 0.9279\n",
            "Epoch 8/20\n",
            "469/469 [==============================] - 15s 32ms/step - loss: 0.1821 - accuracy: 0.9300 - val_loss: 0.2122 - val_accuracy: 0.9272\n",
            "Epoch 9/20\n",
            "469/469 [==============================] - 15s 33ms/step - loss: 0.1749 - accuracy: 0.9348 - val_loss: 0.2146 - val_accuracy: 0.9257\n",
            "Epoch 10/20\n",
            "469/469 [==============================] - 15s 33ms/step - loss: 0.1624 - accuracy: 0.9379 - val_loss: 0.2170 - val_accuracy: 0.9268\n",
            "Epoch 11/20\n",
            "469/469 [==============================] - 15s 33ms/step - loss: 0.1599 - accuracy: 0.9403 - val_loss: 0.2101 - val_accuracy: 0.9297\n",
            "Epoch 12/20\n",
            "469/469 [==============================] - 15s 33ms/step - loss: 0.1470 - accuracy: 0.9446 - val_loss: 0.2040 - val_accuracy: 0.9331\n",
            "Epoch 13/20\n",
            "469/469 [==============================] - 15s 33ms/step - loss: 0.1453 - accuracy: 0.9447 - val_loss: 0.2132 - val_accuracy: 0.9287\n",
            "Epoch 14/20\n",
            "469/469 [==============================] - 15s 33ms/step - loss: 0.1434 - accuracy: 0.9441 - val_loss: 0.2066 - val_accuracy: 0.9311\n",
            "Epoch 15/20\n",
            "469/469 [==============================] - 15s 33ms/step - loss: 0.1323 - accuracy: 0.9499 - val_loss: 0.2129 - val_accuracy: 0.9289\n",
            "Epoch 16/20\n",
            "469/469 [==============================] - 15s 33ms/step - loss: 0.1298 - accuracy: 0.9489 - val_loss: 0.2086 - val_accuracy: 0.9333\n",
            "Epoch 17/20\n",
            "469/469 [==============================] - 15s 33ms/step - loss: 0.1260 - accuracy: 0.9510 - val_loss: 0.2100 - val_accuracy: 0.9345\n",
            "Epoch 18/20\n",
            "469/469 [==============================] - 15s 33ms/step - loss: 0.1188 - accuracy: 0.9538 - val_loss: 0.2172 - val_accuracy: 0.9322\n",
            "Epoch 19/20\n",
            "469/469 [==============================] - 15s 33ms/step - loss: 0.1192 - accuracy: 0.9540 - val_loss: 0.2100 - val_accuracy: 0.9286\n",
            "Epoch 20/20\n",
            "469/469 [==============================] - 15s 33ms/step - loss: 0.1175 - accuracy: 0.9556 - val_loss: 0.2226 - val_accuracy: 0.9320\n"
          ],
          "name": "stdout"
        },
        {
          "output_type": "execute_result",
          "data": {
            "text/plain": [
              "<tensorflow.python.keras.callbacks.History at 0x7f0b4f7fb810>"
            ]
          },
          "metadata": {
            "tags": []
          },
          "execution_count": 43
        }
      ]
    },
    {
      "cell_type": "code",
      "metadata": {
        "colab": {
          "base_uri": "https://localhost:8080/"
        },
        "id": "Kic_HfWn8uJF",
        "outputId": "fe26030f-efd8-4770-e286-4a7d3fff1fff"
      },
      "source": [
        "cnn.evaluate(x_test, y_test)\n",
        "# no overfitting problem as train, validation and test accuracies closer"
      ],
      "execution_count": null,
      "outputs": [
        {
          "output_type": "stream",
          "text": [
            "313/313 [==============================] - 2s 6ms/step - loss: 0.2226 - accuracy: 0.9320\n"
          ],
          "name": "stdout"
        },
        {
          "output_type": "execute_result",
          "data": {
            "text/plain": [
              "[0.22261081635951996, 0.9319999814033508]"
            ]
          },
          "metadata": {
            "tags": []
          },
          "execution_count": 45
        }
      ]
    },
    {
      "cell_type": "code",
      "metadata": {
        "id": "JvuuVyMH-E7j"
      },
      "source": [
        ""
      ],
      "execution_count": null,
      "outputs": []
    },
    {
      "cell_type": "code",
      "metadata": {
        "id": "p-P2SOtu-dMs"
      },
      "source": [
        ""
      ],
      "execution_count": null,
      "outputs": []
    }
  ]
}